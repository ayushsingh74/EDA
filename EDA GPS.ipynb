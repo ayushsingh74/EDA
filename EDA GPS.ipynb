{
 "cells": [
  {
   "cell_type": "code",
   "execution_count": 1,
   "id": "7e75f005-8305-455b-afe3-79059fa07a7d",
   "metadata": {},
   "outputs": [],
   "source": [
    "import pandas as pd\n",
    "import numpy as np\n",
    "import matplotlib.pyplot as plt\n",
    "import seaborn as sns\n",
    "%matplotlib inline"
   ]
  },
  {
   "cell_type": "code",
   "execution_count": 2,
   "id": "9cbf91b2-96fa-4d6b-a199-50c696369839",
   "metadata": {},
   "outputs": [
    {
     "data": {
      "text/html": [
       "<div>\n",
       "<style scoped>\n",
       "    .dataframe tbody tr th:only-of-type {\n",
       "        vertical-align: middle;\n",
       "    }\n",
       "\n",
       "    .dataframe tbody tr th {\n",
       "        vertical-align: top;\n",
       "    }\n",
       "\n",
       "    .dataframe thead th {\n",
       "        text-align: right;\n",
       "    }\n",
       "</style>\n",
       "<table border=\"1\" class=\"dataframe\">\n",
       "  <thead>\n",
       "    <tr style=\"text-align: right;\">\n",
       "      <th></th>\n",
       "      <th>Unnamed: 0</th>\n",
       "      <th>App</th>\n",
       "      <th>Category</th>\n",
       "      <th>Rating</th>\n",
       "      <th>Reviews</th>\n",
       "      <th>Size</th>\n",
       "      <th>Installs</th>\n",
       "      <th>Type</th>\n",
       "      <th>Price</th>\n",
       "      <th>Content Rating</th>\n",
       "      <th>Genres</th>\n",
       "      <th>Last Updated</th>\n",
       "      <th>Current Ver</th>\n",
       "      <th>Android Ver</th>\n",
       "    </tr>\n",
       "  </thead>\n",
       "  <tbody>\n",
       "    <tr>\n",
       "      <th>0</th>\n",
       "      <td>0</td>\n",
       "      <td>Photo Editor &amp; Candy Camera &amp; Grid &amp; ScrapBook</td>\n",
       "      <td>ART_AND_DESIGN</td>\n",
       "      <td>4.1</td>\n",
       "      <td>159</td>\n",
       "      <td>19M</td>\n",
       "      <td>10,000+</td>\n",
       "      <td>Free</td>\n",
       "      <td>0</td>\n",
       "      <td>Everyone</td>\n",
       "      <td>Art &amp; Design</td>\n",
       "      <td>January 7, 2018</td>\n",
       "      <td>1.0.0</td>\n",
       "      <td>4.0.3 and up</td>\n",
       "    </tr>\n",
       "    <tr>\n",
       "      <th>1</th>\n",
       "      <td>1</td>\n",
       "      <td>Coloring book moana</td>\n",
       "      <td>ART_AND_DESIGN</td>\n",
       "      <td>3.9</td>\n",
       "      <td>967</td>\n",
       "      <td>14M</td>\n",
       "      <td>500,000+</td>\n",
       "      <td>Free</td>\n",
       "      <td>0</td>\n",
       "      <td>Everyone</td>\n",
       "      <td>Art &amp; Design;Pretend Play</td>\n",
       "      <td>January 15, 2018</td>\n",
       "      <td>2.0.0</td>\n",
       "      <td>4.0.3 and up</td>\n",
       "    </tr>\n",
       "    <tr>\n",
       "      <th>2</th>\n",
       "      <td>2</td>\n",
       "      <td>U Launcher Lite – FREE Live Cool Themes, Hide ...</td>\n",
       "      <td>ART_AND_DESIGN</td>\n",
       "      <td>4.7</td>\n",
       "      <td>87510</td>\n",
       "      <td>8.7M</td>\n",
       "      <td>5,000,000+</td>\n",
       "      <td>Free</td>\n",
       "      <td>0</td>\n",
       "      <td>Everyone</td>\n",
       "      <td>Art &amp; Design</td>\n",
       "      <td>August 1, 2018</td>\n",
       "      <td>1.2.4</td>\n",
       "      <td>4.0.3 and up</td>\n",
       "    </tr>\n",
       "    <tr>\n",
       "      <th>3</th>\n",
       "      <td>3</td>\n",
       "      <td>Sketch - Draw &amp; Paint</td>\n",
       "      <td>ART_AND_DESIGN</td>\n",
       "      <td>4.5</td>\n",
       "      <td>215644</td>\n",
       "      <td>25M</td>\n",
       "      <td>50,000,000+</td>\n",
       "      <td>Free</td>\n",
       "      <td>0</td>\n",
       "      <td>Teen</td>\n",
       "      <td>Art &amp; Design</td>\n",
       "      <td>June 8, 2018</td>\n",
       "      <td>Varies with device</td>\n",
       "      <td>4.2 and up</td>\n",
       "    </tr>\n",
       "    <tr>\n",
       "      <th>4</th>\n",
       "      <td>4</td>\n",
       "      <td>Pixel Draw - Number Art Coloring Book</td>\n",
       "      <td>ART_AND_DESIGN</td>\n",
       "      <td>4.3</td>\n",
       "      <td>967</td>\n",
       "      <td>2.8M</td>\n",
       "      <td>100,000+</td>\n",
       "      <td>Free</td>\n",
       "      <td>0</td>\n",
       "      <td>Everyone</td>\n",
       "      <td>Art &amp; Design;Creativity</td>\n",
       "      <td>June 20, 2018</td>\n",
       "      <td>1.1</td>\n",
       "      <td>4.4 and up</td>\n",
       "    </tr>\n",
       "    <tr>\n",
       "      <th>...</th>\n",
       "      <td>...</td>\n",
       "      <td>...</td>\n",
       "      <td>...</td>\n",
       "      <td>...</td>\n",
       "      <td>...</td>\n",
       "      <td>...</td>\n",
       "      <td>...</td>\n",
       "      <td>...</td>\n",
       "      <td>...</td>\n",
       "      <td>...</td>\n",
       "      <td>...</td>\n",
       "      <td>...</td>\n",
       "      <td>...</td>\n",
       "      <td>...</td>\n",
       "    </tr>\n",
       "    <tr>\n",
       "      <th>10836</th>\n",
       "      <td>10836</td>\n",
       "      <td>Sya9a Maroc - FR</td>\n",
       "      <td>FAMILY</td>\n",
       "      <td>4.5</td>\n",
       "      <td>38</td>\n",
       "      <td>53M</td>\n",
       "      <td>5,000+</td>\n",
       "      <td>Free</td>\n",
       "      <td>0</td>\n",
       "      <td>Everyone</td>\n",
       "      <td>Education</td>\n",
       "      <td>July 25, 2017</td>\n",
       "      <td>1.48</td>\n",
       "      <td>4.1 and up</td>\n",
       "    </tr>\n",
       "    <tr>\n",
       "      <th>10837</th>\n",
       "      <td>10837</td>\n",
       "      <td>Fr. Mike Schmitz Audio Teachings</td>\n",
       "      <td>FAMILY</td>\n",
       "      <td>5.0</td>\n",
       "      <td>4</td>\n",
       "      <td>3.6M</td>\n",
       "      <td>100+</td>\n",
       "      <td>Free</td>\n",
       "      <td>0</td>\n",
       "      <td>Everyone</td>\n",
       "      <td>Education</td>\n",
       "      <td>July 6, 2018</td>\n",
       "      <td>1.0</td>\n",
       "      <td>4.1 and up</td>\n",
       "    </tr>\n",
       "    <tr>\n",
       "      <th>10838</th>\n",
       "      <td>10838</td>\n",
       "      <td>Parkinson Exercices FR</td>\n",
       "      <td>MEDICAL</td>\n",
       "      <td>NaN</td>\n",
       "      <td>3</td>\n",
       "      <td>9.5M</td>\n",
       "      <td>1,000+</td>\n",
       "      <td>Free</td>\n",
       "      <td>0</td>\n",
       "      <td>Everyone</td>\n",
       "      <td>Medical</td>\n",
       "      <td>January 20, 2017</td>\n",
       "      <td>1.0</td>\n",
       "      <td>2.2 and up</td>\n",
       "    </tr>\n",
       "    <tr>\n",
       "      <th>10839</th>\n",
       "      <td>10839</td>\n",
       "      <td>The SCP Foundation DB fr nn5n</td>\n",
       "      <td>BOOKS_AND_REFERENCE</td>\n",
       "      <td>4.5</td>\n",
       "      <td>114</td>\n",
       "      <td>Varies with device</td>\n",
       "      <td>1,000+</td>\n",
       "      <td>Free</td>\n",
       "      <td>0</td>\n",
       "      <td>Mature 17+</td>\n",
       "      <td>Books &amp; Reference</td>\n",
       "      <td>January 19, 2015</td>\n",
       "      <td>Varies with device</td>\n",
       "      <td>Varies with device</td>\n",
       "    </tr>\n",
       "    <tr>\n",
       "      <th>10840</th>\n",
       "      <td>10840</td>\n",
       "      <td>iHoroscope - 2018 Daily Horoscope &amp; Astrology</td>\n",
       "      <td>LIFESTYLE</td>\n",
       "      <td>4.5</td>\n",
       "      <td>398307</td>\n",
       "      <td>19M</td>\n",
       "      <td>10,000,000+</td>\n",
       "      <td>Free</td>\n",
       "      <td>0</td>\n",
       "      <td>Everyone</td>\n",
       "      <td>Lifestyle</td>\n",
       "      <td>July 25, 2018</td>\n",
       "      <td>Varies with device</td>\n",
       "      <td>Varies with device</td>\n",
       "    </tr>\n",
       "  </tbody>\n",
       "</table>\n",
       "<p>10841 rows × 14 columns</p>\n",
       "</div>"
      ],
      "text/plain": [
       "       Unnamed: 0                                                App  \\\n",
       "0               0     Photo Editor & Candy Camera & Grid & ScrapBook   \n",
       "1               1                                Coloring book moana   \n",
       "2               2  U Launcher Lite – FREE Live Cool Themes, Hide ...   \n",
       "3               3                              Sketch - Draw & Paint   \n",
       "4               4              Pixel Draw - Number Art Coloring Book   \n",
       "...           ...                                                ...   \n",
       "10836       10836                                   Sya9a Maroc - FR   \n",
       "10837       10837                   Fr. Mike Schmitz Audio Teachings   \n",
       "10838       10838                             Parkinson Exercices FR   \n",
       "10839       10839                      The SCP Foundation DB fr nn5n   \n",
       "10840       10840      iHoroscope - 2018 Daily Horoscope & Astrology   \n",
       "\n",
       "                  Category  Rating Reviews                Size     Installs  \\\n",
       "0           ART_AND_DESIGN     4.1     159                 19M      10,000+   \n",
       "1           ART_AND_DESIGN     3.9     967                 14M     500,000+   \n",
       "2           ART_AND_DESIGN     4.7   87510                8.7M   5,000,000+   \n",
       "3           ART_AND_DESIGN     4.5  215644                 25M  50,000,000+   \n",
       "4           ART_AND_DESIGN     4.3     967                2.8M     100,000+   \n",
       "...                    ...     ...     ...                 ...          ...   \n",
       "10836               FAMILY     4.5      38                 53M       5,000+   \n",
       "10837               FAMILY     5.0       4                3.6M         100+   \n",
       "10838              MEDICAL     NaN       3                9.5M       1,000+   \n",
       "10839  BOOKS_AND_REFERENCE     4.5     114  Varies with device       1,000+   \n",
       "10840            LIFESTYLE     4.5  398307                 19M  10,000,000+   \n",
       "\n",
       "       Type Price Content Rating                     Genres      Last Updated  \\\n",
       "0      Free     0       Everyone               Art & Design   January 7, 2018   \n",
       "1      Free     0       Everyone  Art & Design;Pretend Play  January 15, 2018   \n",
       "2      Free     0       Everyone               Art & Design    August 1, 2018   \n",
       "3      Free     0           Teen               Art & Design      June 8, 2018   \n",
       "4      Free     0       Everyone    Art & Design;Creativity     June 20, 2018   \n",
       "...     ...   ...            ...                        ...               ...   \n",
       "10836  Free     0       Everyone                  Education     July 25, 2017   \n",
       "10837  Free     0       Everyone                  Education      July 6, 2018   \n",
       "10838  Free     0       Everyone                    Medical  January 20, 2017   \n",
       "10839  Free     0     Mature 17+          Books & Reference  January 19, 2015   \n",
       "10840  Free     0       Everyone                  Lifestyle     July 25, 2018   \n",
       "\n",
       "              Current Ver         Android Ver  \n",
       "0                   1.0.0        4.0.3 and up  \n",
       "1                   2.0.0        4.0.3 and up  \n",
       "2                   1.2.4        4.0.3 and up  \n",
       "3      Varies with device          4.2 and up  \n",
       "4                     1.1          4.4 and up  \n",
       "...                   ...                 ...  \n",
       "10836                1.48          4.1 and up  \n",
       "10837                 1.0          4.1 and up  \n",
       "10838                 1.0          2.2 and up  \n",
       "10839  Varies with device  Varies with device  \n",
       "10840  Varies with device  Varies with device  \n",
       "\n",
       "[10841 rows x 14 columns]"
      ]
     },
     "execution_count": 2,
     "metadata": {},
     "output_type": "execute_result"
    }
   ],
   "source": [
    "df = pd.read_csv(r\"M:\\Ayush\\ABD\\Ducat\\Python\\CSV files\\Google playstore4.csv\")\n",
    "df"
   ]
  },
  {
   "cell_type": "code",
   "execution_count": null,
   "id": "f86392cb-9de2-4258-a7dd-c07067444965",
   "metadata": {},
   "outputs": [],
   "source": [
    "pd.set_option('display.max_columns', None)\n"
   ]
  },
  {
   "cell_type": "code",
   "execution_count": null,
   "id": "f5b22e1a-0261-4b54-a4a1-50fe01edf1a9",
   "metadata": {},
   "outputs": [],
   "source": [
    "df.columns"
   ]
  },
  {
   "cell_type": "code",
   "execution_count": null,
   "id": "171a2962-8bcf-4eb5-87b5-0d37b58aebfc",
   "metadata": {},
   "outputs": [],
   "source": [
    "df.shape"
   ]
  },
  {
   "cell_type": "code",
   "execution_count": null,
   "id": "3c0a95e7-f5f7-451f-b16b-f2663d43312a",
   "metadata": {},
   "outputs": [],
   "source": [
    "print(f\"The Number of Rows a are {df.shape[0]}\")"
   ]
  },
  {
   "cell_type": "code",
   "execution_count": null,
   "id": "7c56cde3-557c-4c48-aea1-15caa604af6b",
   "metadata": {},
   "outputs": [],
   "source": [
    "df.info()"
   ]
  },
  {
   "cell_type": "code",
   "execution_count": null,
   "id": "f5db2e38-994a-4160-bfc7-8ae332aa34c8",
   "metadata": {},
   "outputs": [],
   "source": [
    "df.describe()"
   ]
  },
  {
   "cell_type": "code",
   "execution_count": null,
   "id": "d059493e-6b9c-4867-994f-a51584cd5cd3",
   "metadata": {},
   "outputs": [],
   "source": [
    "df.head()"
   ]
  },
  {
   "cell_type": "code",
   "execution_count": null,
   "id": "802491cc-edbc-4c63-821b-1c7f39c17ed9",
   "metadata": {},
   "outputs": [],
   "source": [
    "# how to make size numeric column\n",
    "df['Size'].value_counts()"
   ]
  },
  {
   "cell_type": "code",
   "execution_count": null,
   "id": "d6537966-7c32-4338-97b0-fb3025d982dd",
   "metadata": {},
   "outputs": [],
   "source": [
    "df['Size'].unique()"
   ]
  },
  {
   "cell_type": "code",
   "execution_count": null,
   "id": "1adac9e0-ad08-4371-9f33-bfe922e3a910",
   "metadata": {},
   "outputs": [],
   "source": [
    "# Observations\n",
    "# 1. Veries with device\n",
    "# 2. M\n",
    "# 3. k"
   ]
  },
  {
   "cell_type": "code",
   "execution_count": null,
   "id": "378682f0-6ce0-4e9f-9872-a23f8955e1f8",
   "metadata": {},
   "outputs": [],
   "source": [
    "df['Size'].isnull().sum()"
   ]
  },
  {
   "cell_type": "code",
   "execution_count": null,
   "id": "4a780018-76d1-49ae-8dba-af82589fe507",
   "metadata": {},
   "outputs": [],
   "source": [
    "# No missing values"
   ]
  },
  {
   "cell_type": "code",
   "execution_count": null,
   "id": "7ca4a255-437a-40b8-93ef-b23063878e87",
   "metadata": {},
   "outputs": [],
   "source": [
    "# Find the values having M in them\n",
    "df['Size'].loc[df['Size'].str.contains('M')].value_counts()"
   ]
  },
  {
   "cell_type": "code",
   "execution_count": null,
   "id": "2503a574-9716-48fe-8e43-d72ca118d612",
   "metadata": {},
   "outputs": [],
   "source": [
    "df['Size'].loc[df['Size'].str.contains('M')].value_counts().sum()"
   ]
  },
  {
   "cell_type": "code",
   "execution_count": null,
   "id": "de76e2b0-67c8-4dc0-81a9-5b1d85e20e55",
   "metadata": {},
   "outputs": [],
   "source": [
    "# Find the value having k in them\n",
    "df['Size'].loc[df['Size'].str.contains('k')].value_counts().sum()"
   ]
  },
  {
   "cell_type": "code",
   "execution_count": null,
   "id": "21fc8615-4a4d-4d2e-9366-7c996240c757",
   "metadata": {},
   "outputs": [],
   "source": [
    "# Find the value having Varies with device in them\n",
    "df['Size'].loc[df['Size'].str.contains('Varies with device')].value_counts().sum()"
   ]
  },
  {
   "cell_type": "code",
   "execution_count": null,
   "id": "b2125672-1cdf-4374-9a22-2ec386fde787",
   "metadata": {},
   "outputs": [],
   "source": [
    "# convert the whole size column into bytes\n",
    "def convert_size(size):\n",
    "    if isinstance(size, str):\n",
    "        if \"k\" in size:\n",
    "            return float(size.replace('k', \"\")) * 1024\n",
    "        elif 'M' in size:\n",
    "            return float(size.replace('M', \"\")) * 1024 * 1024\n",
    "        elif 'Varies with device' in size:\n",
    "            return np.nan\n",
    "    return size"
   ]
  },
  {
   "cell_type": "code",
   "execution_count": null,
   "id": "20667fb4-5cb8-4268-b5d8-8e2b27c32536",
   "metadata": {},
   "outputs": [],
   "source": [
    "df['Size'] = df['Size'].apply(convert_size)"
   ]
  },
  {
   "cell_type": "code",
   "execution_count": null,
   "id": "8f49f722-ed59-4795-bf37-6339ca2a8101",
   "metadata": {},
   "outputs": [],
   "source": [
    "df['Size']"
   ]
  },
  {
   "cell_type": "code",
   "execution_count": null,
   "id": "103c55dd-2ff9-404f-a435-82cde4d88277",
   "metadata": {},
   "outputs": [],
   "source": [
    "df.head()"
   ]
  },
  {
   "cell_type": "code",
   "execution_count": null,
   "id": "3e8b0f65-7701-44f9-989b-11df59bfec42",
   "metadata": {},
   "outputs": [],
   "source": [
    "# Rename the column\n",
    "df.rename(columns = {'Size': \"Size_in_bytes\"}, inplace = True)"
   ]
  },
  {
   "cell_type": "code",
   "execution_count": null,
   "id": "caf9b3f8-5335-4d9f-87d6-38289189a1d5",
   "metadata": {},
   "outputs": [],
   "source": [
    "df['Size_in_Mb'] = df['Size_in_bytes'].apply(lambda x: x / (1024 * 1024))  # Convert to MB"
   ]
  },
  {
   "cell_type": "code",
   "execution_count": null,
   "id": "472f31d9-8415-4b4d-8d70-cb56a6163f81",
   "metadata": {},
   "outputs": [],
   "source": [
    "df.head()"
   ]
  },
  {
   "cell_type": "code",
   "execution_count": null,
   "id": "71577286-9009-4650-9497-b4e1b3dd50e3",
   "metadata": {},
   "outputs": [],
   "source": [
    "# Install's"
   ]
  },
  {
   "cell_type": "code",
   "execution_count": null,
   "id": "20f79f21-653c-42a2-9e71-1098d713fcac",
   "metadata": {},
   "outputs": [],
   "source": [
    "df['Installs'].unique()"
   ]
  },
  {
   "cell_type": "code",
   "execution_count": null,
   "id": "e4e8bdc6-c195-4e5f-ab9c-f2028a22af2f",
   "metadata": {},
   "outputs": [],
   "source": [
    "df['Installs'].value_counts()"
   ]
  },
  {
   "cell_type": "code",
   "execution_count": null,
   "id": "d4422ac6-41c4-4436-b4c0-a719800c9016",
   "metadata": {},
   "outputs": [],
   "source": [
    "df['Installs'].isnull().sum()"
   ]
  },
  {
   "cell_type": "code",
   "execution_count": null,
   "id": "fe9607c2-9499-4d6c-afba-31af747c0f79",
   "metadata": {},
   "outputs": [],
   "source": [
    "df['Installs'] = df['Installs'].apply(lambda x: x.replace('+', \"\") if '+' in str(x) else x)"
   ]
  },
  {
   "cell_type": "code",
   "execution_count": null,
   "id": "ec485f12-f6f7-432f-84ee-dcce0263d71a",
   "metadata": {},
   "outputs": [],
   "source": [
    "df['Installs'] = df['Installs'].apply(lambda x: x.replace(',', \"\") if ',' in str(x) else x)"
   ]
  },
  {
   "cell_type": "code",
   "execution_count": null,
   "id": "18b31c3d-b4c5-40e6-a39a-dc83188c53a0",
   "metadata": {},
   "outputs": [],
   "source": [
    "df['Installs'] = df['Installs'].apply(lambda x: x.replace('Free', \"0\"))"
   ]
  },
  {
   "cell_type": "code",
   "execution_count": null,
   "id": "3af613b1-b26f-4e29-912b-4e9bd0171864",
   "metadata": {},
   "outputs": [],
   "source": [
    "df.head()"
   ]
  },
  {
   "cell_type": "code",
   "execution_count": null,
   "id": "c0a343f6-d2b9-42f8-bf19-d071d1598ba4",
   "metadata": {},
   "outputs": [],
   "source": [
    "df['Installs'] = df['Installs'].apply(lambda x: int(x))"
   ]
  },
  {
   "cell_type": "code",
   "execution_count": null,
   "id": "503bdb11-8601-4f9d-bd17-73dd27b46aef",
   "metadata": {},
   "outputs": [],
   "source": [
    "df.describe()"
   ]
  },
  {
   "cell_type": "code",
   "execution_count": null,
   "id": "a31df292-88eb-4f9a-a2ad-cf0ebb2c3875",
   "metadata": {},
   "outputs": [],
   "source": [
    "df['Price'].value_counts()"
   ]
  },
  {
   "cell_type": "code",
   "execution_count": null,
   "id": "ccdd4829-a199-4b00-ae3d-e985047f9f62",
   "metadata": {},
   "outputs": [],
   "source": [
    "df['Price'] = df['Price'].apply(lambda x: x.replace('Everyone', \"0\"))"
   ]
  },
  {
   "cell_type": "code",
   "execution_count": null,
   "id": "b629ec2d-c1a5-4816-b3eb-95bf35c07851",
   "metadata": {},
   "outputs": [],
   "source": [
    "df['Price'].loc[df['Price'].str.contains('$')].value_counts().sum()"
   ]
  },
  {
   "cell_type": "code",
   "execution_count": null,
   "id": "c33881e6-c9c1-4701-b25d-f94369d44ee2",
   "metadata": {},
   "outputs": [],
   "source": [
    "df['Price'].loc[(df['Price'].str.contains('0')) & (~df['Price'].str.contains('\\$'))].value_counts().sum()"
   ]
  },
  {
   "cell_type": "code",
   "execution_count": null,
   "id": "a7a78ce2-3803-4449-a2ae-0228fb7a7301",
   "metadata": {},
   "outputs": [],
   "source": [
    "df['Price'] = df['Price'].apply(lambda x: x.replace('$', \"\"))"
   ]
  },
  {
   "cell_type": "code",
   "execution_count": null,
   "id": "0a82222d-f4c8-49cc-8b36-b67278bbfefe",
   "metadata": {},
   "outputs": [],
   "source": [
    "df['Price'].value_counts()"
   ]
  },
  {
   "cell_type": "code",
   "execution_count": null,
   "id": "a6438200-f21a-4878-87ca-a64af460941b",
   "metadata": {},
   "outputs": [],
   "source": [
    "df['Price'] = df['Price'].apply(lambda x: float(x))"
   ]
  },
  {
   "cell_type": "code",
   "execution_count": null,
   "id": "0de3e4e6-dace-475e-af39-cfd3faec464b",
   "metadata": {},
   "outputs": [],
   "source": [
    "df.describe()"
   ]
  },
  {
   "cell_type": "code",
   "execution_count": null,
   "id": "0412e324-53cb-498d-bfdd-ced7f0461c20",
   "metadata": {},
   "outputs": [],
   "source": [
    "df['Reviews'].value_counts()"
   ]
  },
  {
   "cell_type": "code",
   "execution_count": null,
   "id": "18bb23e8-eaef-429a-9e5c-6d5862d6cb93",
   "metadata": {},
   "outputs": [],
   "source": [
    "df['Reviews'] = pd.to_numeric(df['Reviews'], errors='coerce')  # Convert safely\n",
    "df['Reviews'] = df['Reviews'].fillna(0).astype(int)  # Fill NaN & convert to int"
   ]
  },
  {
   "cell_type": "code",
   "execution_count": null,
   "id": "cf3dff23-6ea7-4393-9baa-bb132c4083c5",
   "metadata": {},
   "outputs": [],
   "source": [
    "df.describe()"
   ]
  }
 ],
 "metadata": {
  "kernelspec": {
   "display_name": "Python 3 (ipykernel)",
   "language": "python",
   "name": "python3"
  },
  "language_info": {
   "codemirror_mode": {
    "name": "ipython",
    "version": 3
   },
   "file_extension": ".py",
   "mimetype": "text/x-python",
   "name": "python",
   "nbconvert_exporter": "python",
   "pygments_lexer": "ipython3",
   "version": "3.12.6"
  }
 },
 "nbformat": 4,
 "nbformat_minor": 5
}
